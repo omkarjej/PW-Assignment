{
 "cells": [
  {
   "cell_type": "markdown",
   "id": "43008664-6861-4297-a30a-8acfbf73a394",
   "metadata": {},
   "source": [
    "Python Assignment No.1"
   ]
  },
  {
   "cell_type": "code",
   "execution_count": 1,
   "id": "54fbe1c3-1d78-4ace-9dc7-1461c5fe3e6d",
   "metadata": {},
   "outputs": [
    {
     "name": "stdout",
     "output_type": "stream",
     "text": [
      "The value of variable x is now 5\n",
      "The value of variable y is now 10\n"
     ]
    }
   ],
   "source": [
    "# 1. Declare two variables, `x` and `y`, and assign them integer values. Swap the values of these variables without using any temporary variable.\n",
    "\n",
    "\n",
    "\n",
    "x = 10                                 #........... assign two int variales x , y\n",
    "y = 5\n",
    "\n",
    "\n",
    "x = x - y \n",
    "\n",
    "y = x + y\n",
    "\n",
    "\n",
    "print(\"The value of variable x is now\",x)\n",
    "\n",
    "print(\"The value of variable y is now\",y)\n",
    "\n",
    "\n",
    "\n",
    "\n",
    "# By running this code we can swap or interchange value of both variables."
   ]
  },
  {
   "cell_type": "code",
   "execution_count": 4,
   "id": "3688b54b-9ae4-4944-be4a-a90cca1af153",
   "metadata": {},
   "outputs": [
    {
     "name": "stdin",
     "output_type": "stream",
     "text": [
      "Enter Base of Triangle :  10\n",
      "Enter Height of Triangle :  20\n"
     ]
    },
    {
     "name": "stdout",
     "output_type": "stream",
     "text": [
      "Area of Triangle is 100.0 cm2\n"
     ]
    }
   ],
   "source": [
    "# 2. Create a program that calculates the area of a rectangle. Take the length and width as inputs from the user and store them in variables. Calculate and display the area.\n",
    "\n",
    "\n",
    "b = int(input(\"Enter Base of Triangle : \"))           # ............................. taking two variable b & h From user which mean Base & Height respectivly.\n",
    "\n",
    "h = int(input(\"Enter Height of Triangle : \"))\n",
    "\n",
    "\n",
    "\n",
    "Area_of_Triangle = 1/2 * b * h                  # .............................using this formula we can calculate area of triangle.\n",
    "\n",
    "\n",
    "print(f\"Area of Triangle is {Area_of_Triangle} cm2\")\n",
    "\n"
   ]
  },
  {
   "cell_type": "code",
   "execution_count": 6,
   "id": "c4beb88c-3ff2-4b31-b5aa-31f6d47ab50c",
   "metadata": {},
   "outputs": [
    {
     "name": "stdin",
     "output_type": "stream",
     "text": [
      "Enter Temperature in celsius : 48\n"
     ]
    },
    {
     "name": "stdout",
     "output_type": "stream",
     "text": [
      "Temperature 48 celsius is 118.4 in Fahrenheit\n"
     ]
    }
   ],
   "source": [
    "#3. Write a Python program that converts temperatures from Celsius to Fahrenheit. Take the temperature in Celsius as input, store it in a variable, convert it to Fahrenheit, and display the result.\n",
    "\n",
    "c = int(input(\"Enter Temperature in celsius :\"))\n",
    "\n",
    "\n",
    "f =    (9/5 * c) + 32                               #..........................> formula to convert temp. celsius to fahrenheit.\n",
    "\n",
    "\n",
    "print(f\"Temperature {c} celsius is {f} in Fahrenheit\") "
   ]
  },
  {
   "cell_type": "code",
   "execution_count": null,
   "id": "f7349a5e-591a-4ead-833f-d773ee7a9dfe",
   "metadata": {},
   "outputs": [],
   "source": []
  },
  {
   "cell_type": "markdown",
   "id": "3fd880d5-37ca-44d7-937b-2406c1e22a83",
   "metadata": {},
   "source": [
    "String Based Questions"
   ]
  },
  {
   "cell_type": "code",
   "execution_count": 5,
   "id": "fbb7fba1-b558-4f87-a5fb-30f745b07d28",
   "metadata": {},
   "outputs": [
    {
     "name": "stdin",
     "output_type": "stream",
     "text": [
      "Enter String As per Your Wish : this my 4 attempt\n"
     ]
    },
    {
     "name": "stdout",
     "output_type": "stream",
     "text": [
      "The Lenght of String is  17\n"
     ]
    }
   ],
   "source": [
    "#1. Write a Python program that takes a string as input and prints the length of the string.\n",
    "\n",
    "S = input(\"Enter String As per Your Wish :\")\n",
    "\n",
    "lenght_of_string = len(S)                 #.......................> with help of len function we can find out lenght of function.\n",
    "\n",
    "\n",
    "print(\"The Lenght of String is \",lenght_of_string)\n",
    "\n",
    "\n"
   ]
  },
  {
   "cell_type": "code",
   "execution_count": 14,
   "id": "6ba1f716-ee70-4141-acbc-d72734c7acf4",
   "metadata": {},
   "outputs": [
    {
     "name": "stdin",
     "output_type": "stream",
     "text": [
      "Enter the sentence : Rohit Sharma Played Very Well Today\n"
     ]
    },
    {
     "name": "stdout",
     "output_type": "stream",
     "text": [
      "The count of vowel a is  4\n",
      "The count of vowel e is  3\n",
      "The count of vowel i is  1\n",
      "The count of vowel o is  2\n",
      "The count of vowel u is  0\n",
      "Total number of vowels is  10\n"
     ]
    }
   ],
   "source": [
    "#2. Create a program that takes a sentence from the user and counts the number of vowels (a, e, i, o, u) in the string.\n",
    "\n",
    "string = input(\"Enter the sentence :\")                  #....................................> take string from users\n",
    "\n",
    "count_of_vowel_a = string.lower().count('a')               #...........> first i convert all into lower so it won't create problem because python is case sensitive lang\n",
    "\n",
    "count_of_vowel_e = string.lower().count('e')\n",
    "\n",
    "count_of_vowel_i = string.lower().count('i')            #...................>then count a,e,i,o,u from string respectivly\n",
    "\n",
    "count_of_vowel_o = string.lower().count('o')\n",
    "\n",
    "count_of_vowel_u = string.lower().count('u')\n",
    "\n",
    "\n",
    "Total_no_vowel = (count_of_vowel_a+count_of_vowel_e+count_of_vowel_i+count_of_vowel_o+count_of_vowel_u) #.............> i did just addition to find out total of vowels and just print\n",
    "\n",
    "\n",
    "\n",
    "print(\"The count of vowel a is \" ,count_of_vowel_a)\n",
    "\n",
    "print(\"The count of vowel e is \" ,count_of_vowel_e)\n",
    "\n",
    "print(\"The count of vowel i is \" ,count_of_vowel_i)\n",
    "\n",
    "print(\"The count of vowel o is \" ,count_of_vowel_o)\n",
    "\n",
    "print(\"The count of vowel u is \" ,count_of_vowel_u)\n",
    "\n",
    "print(\"Total number of vowels is \",Total_no_vowel)\n"
   ]
  },
  {
   "cell_type": "code",
   "execution_count": 17,
   "id": "59e081e1-5a33-493e-8c6b-5faf0596f08a",
   "metadata": {},
   "outputs": [
    {
     "name": "stdout",
     "output_type": "stream",
     "text": [
      "! gnitesretni gnihtemos si sihT\n"
     ]
    }
   ],
   "source": [
    "#3. Given a string, reverse the order of characters using string slicing and print the reversed string.\n",
    "\n",
    "t = \"This is something interseting !\"\n",
    "\n",
    "reverse_str = t[::-1]                       #.............> reverse the string with slicing , ( : : ) indicate start from first (0) index position to till end of string and -1 help to reverse the string \n",
    "\n",
    "print(reverse_str)"
   ]
  },
  {
   "cell_type": "code",
   "execution_count": 20,
   "id": "e017a290-c0d2-4baa-b47a-9d2bbc931b5b",
   "metadata": {},
   "outputs": [
    {
     "name": "stdin",
     "output_type": "stream",
     "text": [
      "Enter words to check whether is a palindrome or not : omkar\n"
     ]
    },
    {
     "name": "stdout",
     "output_type": "stream",
     "text": [
      "This word is not a Palindrome\n"
     ]
    }
   ],
   "source": [
    "#4. Write a program that takes a string as input and checks if it is a palindrome (reads the same forwards and backwards).\n",
    "\n",
    "p_words = input(\"Enter words to check whether is a palindrome or not :\")\n",
    "\n",
    "r_words = p_words[::-1]                   #....................> this is help to reverse words so we can check whether given word is palindrome or not\n",
    "\n",
    "\n",
    "if p_words == r_words:\n",
    "    print(\"This word is a Palindrome\")\n",
    "else:\n",
    "    print(\"This word is not a Palindrome\")"
   ]
  },
  {
   "cell_type": "code",
   "execution_count": 24,
   "id": "bfd8185d-0c3e-42b1-90c7-2fc7dcbad8e0",
   "metadata": {},
   "outputs": [
    {
     "name": "stdin",
     "output_type": "stream",
     "text": [
      "Enter your String : Hi, Hello How Are You !\n"
     ]
    },
    {
     "name": "stdout",
     "output_type": "stream",
     "text": [
      "This is the string which look after removing all the spaces =  Hi,HelloHowAreYou!\n"
     ]
    }
   ],
   "source": [
    "#5. Create a program that takes a string as input and removes all the spaces from it. Print the modified string without spaces.\n",
    "\n",
    "user_str = input(\"Enter your String :\")            #.......................> take string from users\n",
    "\n",
    "without_space = user_str.replace(\" \",\"\")           #..............................> with the help of replace i removed all the spaces from string\n",
    "\n",
    "print(\"This is the string which look after removing all the spaces = \",without_space)"
   ]
  },
  {
   "cell_type": "code",
   "execution_count": null,
   "id": "ba8a7d7a-2299-45a9-b06f-715de3fe34c3",
   "metadata": {},
   "outputs": [],
   "source": []
  },
  {
   "cell_type": "code",
   "execution_count": null,
   "id": "7054afff-b661-4620-bd25-c7158b23a42c",
   "metadata": {},
   "outputs": [],
   "source": []
  },
  {
   "cell_type": "code",
   "execution_count": null,
   "id": "efe7437e-3efe-4d32-86bf-0430c323705b",
   "metadata": {},
   "outputs": [],
   "source": []
  },
  {
   "cell_type": "code",
   "execution_count": null,
   "id": "feb5d5f9-1f24-425c-83a4-717cb1e5c907",
   "metadata": {},
   "outputs": [],
   "source": []
  },
  {
   "cell_type": "code",
   "execution_count": null,
   "id": "fdd007b7-7f48-45ab-90f1-9119d9c03950",
   "metadata": {},
   "outputs": [],
   "source": []
  }
 ],
 "metadata": {
  "kernelspec": {
   "display_name": "Python 3 (ipykernel)",
   "language": "python",
   "name": "python3"
  },
  "language_info": {
   "codemirror_mode": {
    "name": "ipython",
    "version": 3
   },
   "file_extension": ".py",
   "mimetype": "text/x-python",
   "name": "python",
   "nbconvert_exporter": "python",
   "pygments_lexer": "ipython3",
   "version": "3.10.8"
  }
 },
 "nbformat": 4,
 "nbformat_minor": 5
}
